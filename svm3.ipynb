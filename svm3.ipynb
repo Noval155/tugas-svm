{
 "cells": [
  {
   "cell_type": "code",
   "execution_count": null,
   "id": "67f53c03-eac4-40b7-bf02-accfdaa571cf",
   "metadata": {},
   "outputs": [],
   "source": [
    "#CLASSIFICATION DENGAN SVC ((SUPPORT VECTOR CLASSIFER)\n",
    "\n",
    "from sklearn.svm import SVC\n",
    "\n",
    "model = SVC(random_state=0)\n",
    "model.fit(X_train, y_train)"
   ]
  },
  {
   "cell_type": "code",
   "execution_count": null,
   "id": "22486f20-1eac-4b35-8328-91e614f7d41e",
   "metadata": {},
   "outputs": [],
   "source": [
    "from sklearn.metrics import classification_report\n",
    "\n",
    "y_pred = model.predict(X_test)\n",
    "print(classification_report(y_test, y_pred))"
   ]
  },
  {
   "cell_type": "code",
   "execution_count": null,
   "id": "004c4db3-8c92-45c3-8eb4-1cb59a0468e9",
   "metadata": {},
   "outputs": [],
   "source": []
  }
 ],
 "metadata": {
  "kernelspec": {
   "display_name": "Python 3 (ipykernel)",
   "language": "python",
   "name": "python3"
  },
  "language_info": {
   "codemirror_mode": {
    "name": "ipython",
    "version": 3
   },
   "file_extension": ".py",
   "mimetype": "text/x-python",
   "name": "python",
   "nbconvert_exporter": "python",
   "pygments_lexer": "ipython3",
   "version": "3.10.4"
  }
 },
 "nbformat": 4,
 "nbformat_minor": 5
}
